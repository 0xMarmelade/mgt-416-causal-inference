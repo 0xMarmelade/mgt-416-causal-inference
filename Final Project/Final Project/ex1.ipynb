{
 "cells": [
  {
   "cell_type": "code",
   "execution_count": 22,
   "metadata": {
    "collapsed": true
   },
   "outputs": [],
   "source": [
    "import scipy.io\n",
    "import pandas as pd\n",
    "import numpy as np\n",
    "import itertools\n",
    "from ci_test import ci_test\n",
    "import pickle\n",
    "import cdt\n",
    "import networkx as nx\n",
    "import matplotlib.pyplot as plt"
   ]
  },
  {
   "cell_type": "code",
   "execution_count": 80,
   "outputs": [],
   "source": [
    "datasets = []\n",
    "\n",
    "for dataset_i in range(1,5):\n",
    "    d_mat = scipy.io.loadmat(f\"D{dataset_i}.mat\")\n",
    "    datasets.append(np.array(pd.DataFrame(d_mat['D'])))"
   ],
   "metadata": {
    "collapsed": false,
    "pycharm": {
     "name": "#%%\n"
    }
   }
  },
  {
   "cell_type": "code",
   "execution_count": 142,
   "outputs": [],
   "source": [
    "def pc1(dataset: np.ndarray) -> np.ndarray:\n",
    "    n_columns = dataset.shape[1]\n",
    "    all_nodes = range(n_columns)\n",
    "\n",
    "    # Initialize a fully connected adjency matrix (no self connection since its a DAG)\n",
    "    adjacency_matrix = np.ones((n_columns, n_columns)) - np.identity(n_columns)\n",
    "    # Initialize a list of sets to keep for the edge orientation phase\n",
    "    #Z_set = np.full((n_columns, n_columns), set())\n",
    "    Z_set = [[set() for i in range(n_columns)] for j in range(n_columns)]\n",
    "    # Pick the 1st variable\n",
    "    for var_i in all_nodes:\n",
    "        nodes = list(all_nodes)\n",
    "        nodes.remove(var_i)\n",
    "        # Pick a different 2nd variable\n",
    "        for var2_i in nodes:\n",
    "            # Pick a condition set\n",
    "            for n_controls in all_nodes:\n",
    "                possible_controls = list(all_nodes)\n",
    "                possible_controls.remove(var_i)\n",
    "                possible_controls.remove(var2_i)\n",
    "\n",
    "                possible_controls = list(itertools.combinations(possible_controls, n_controls))\n",
    "\n",
    "                for condition_set in possible_controls:\n",
    "                    test = ci_test(dataset, var_i, var2_i, condition_set)\n",
    "\n",
    "                    if test:\n",
    "                        adjacency_matrix[var_i][var2_i] =  adjacency_matrix[var2_i][var_i] = 0\n",
    "\n",
    "                        Z_set[var_i][var2_i] |= set(condition_set)\n",
    "                        Z_set[var2_i][var_i] |= set(condition_set)\n",
    "\n",
    "    return adjacency_matrix, Z_set\n",
    "\n",
    "\n",
    "\n"
   ],
   "metadata": {
    "collapsed": false,
    "pycharm": {
     "name": "#%%\n"
    }
   }
  },
  {
   "cell_type": "code",
   "execution_count": 87,
   "outputs": [
    {
     "data": {
      "text/plain": "<Figure size 1080x432 with 1 Axes>",
      "image/png": "[encoded data removed]"
     },
     "metadata": {},
     "output_type": "display_data"
    }
   ],
   "source": [
    "plt.figure(figsize = (15,6))\n",
    "plt.subplot(121)\n",
    "G2 = nx.from_numpy_matrix(pc1(datasets[1]))\n",
    "nx.draw_networkx(G2, with_labels = True)"
   ],
   "metadata": {
    "collapsed": false,
    "pycharm": {
     "name": "#%%\n"
    }
   }
  },
  {
   "cell_type": "code",
   "execution_count": 140,
   "outputs": [],
   "source": [
    "def add_v_structures(dataset: np.ndarray, graph: nx.Graph, Z_set: [set]) -> nx.DiGraph:\n",
    "    directed_graph = nx.DiGraph(graph)\n",
    "    nodes = graph.nodes\n",
    "\n",
    "    for node_pair in itertools.combinations(nodes, 2):\n",
    "        i = node_pair[0]\n",
    "        j = node_pair[1]\n",
    "\n",
    "        i_childs = set(directed_graph.successors(i))\n",
    "        if j in i_childs:\n",
    "            continue\n",
    "        j_childs = set(directed_graph.successors(j))\n",
    "        if i in j_childs:\n",
    "            continue\n",
    "        if Z_set[i][j] is None: # is none\n",
    "            continue\n",
    "\n",
    "        common_childs = i_childs & j_childs\n",
    "        for children in common_childs:\n",
    "            if children not in Z_set[i][j]:\n",
    "                if directed_graph.has_edge(children, i):\n",
    "                    directed_graph.remove_edge(children, i)\n",
    "                if directed_graph.has_edge(children, j):\n",
    "                    directed_graph.remove_edge(children, j)\n",
    "\n",
    "    return directed_graph"
   ],
   "metadata": {
    "collapsed": false,
    "pycharm": {
     "name": "#%%\n"
    }
   }
  },
  {
   "cell_type": "code",
   "execution_count": 143,
   "outputs": [],
   "source": [
    "adjacency_mat, condition_set = pc1(datasets[0])\n",
    "graph = nx.from_numpy_matrix(adjacency_mat)\n",
    "directed_graph = add_v_structures(datasets[0], graph, condition_set)"
   ],
   "metadata": {
    "collapsed": false,
    "pycharm": {
     "name": "#%%\n"
    }
   }
  },
  {
   "cell_type": "code",
   "execution_count": 144,
   "outputs": [
    {
     "data": {
      "text/plain": "<Figure size 432x288 with 1 Axes>",
      "image/png": "[encoded data removed]"
     },
     "metadata": {},
     "output_type": "display_data"
    }
   ],
   "source": [
    "nx.draw_networkx(directed_graph, with_labels = True)"
   ],
   "metadata": {
    "collapsed": false,
    "pycharm": {
     "name": "#%%\n"
    }
   }
  },
  {
   "cell_type": "code",
   "execution_count": 130,
   "outputs": [
    {
     "data": {
      "text/plain": "[[set(),\n  {2, 3, 4, 5, 6, 7},\n  set(),\n  {1, 2, 4, 5, 6, 7},\n  {1, 2, 3, 5, 6, 7},\n  {1, 2, 3, 4, 6, 7},\n  set(),\n  {1, 2, 3, 4, 5, 6}],\n [{2, 3, 4, 5, 6, 7},\n  set(),\n  {0, 3, 4, 5, 6, 7},\n  {0, 2, 4, 5, 6, 7},\n  {0, 2, 3, 5, 6, 7},\n  {0, 2, 3, 4, 6, 7},\n  set(),\n  {0, 2, 3, 4, 5, 6}],\n [set(),\n  {0, 3, 4, 5, 6, 7},\n  set(),\n  {0, 1, 4, 5, 6, 7},\n  {0, 1, 3, 5, 6, 7},\n  {0, 1, 3, 4, 6, 7},\n  {1, 3, 4, 5, 7},\n  set()],\n [{1, 2, 4, 5, 6, 7},\n  {0, 2, 4, 5, 6, 7},\n  {0, 1, 4, 5, 6, 7},\n  set(),\n  {0, 1, 2, 5, 6, 7},\n  set(),\n  {0, 1, 2, 4, 5, 7},\n  {0, 1, 2, 4, 5, 6}],\n [{1, 2, 3, 5, 6, 7},\n  {0, 2, 3, 5, 6, 7},\n  {0, 1, 3, 5, 6, 7},\n  {0, 1, 2, 5, 6, 7},\n  set(),\n  {2, 3, 7},\n  set(),\n  set()],\n [{1, 2, 3, 4, 6, 7},\n  {0, 2, 3, 4, 6, 7},\n  {0, 1, 3, 4, 6, 7},\n  set(),\n  {2, 3, 7},\n  set(),\n  set(),\n  {0, 1, 2, 3, 4, 6}],\n [set(),\n  set(),\n  {1, 3, 4, 5, 7},\n  {0, 1, 2, 4, 5, 7},\n  set(),\n  set(),\n  set(),\n  {0, 1, 2, 3, 4, 5}],\n [{1, 2, 3, 4, 5, 6},\n  {0, 2, 3, 4, 5, 6},\n  set(),\n  {0, 1, 2, 4, 5, 6},\n  set(),\n  {0, 1, 2, 3, 4, 6},\n  {0, 1, 2, 3, 4, 5},\n  set()]]"
     },
     "execution_count": 130,
     "metadata": {},
     "output_type": "execute_result"
    }
   ],
   "source": [
    "condition_set"
   ],
   "metadata": {
    "collapsed": false,
    "pycharm": {
     "name": "#%%\n"
    }
   }
  },
  {
   "cell_type": "code",
   "execution_count": 89,
   "outputs": [
    {
     "data": {
      "text/plain": "<Figure size 432x288 with 1 Axes>",
      "image/png": "[encoded data removed]"
     },
     "metadata": {},
     "output_type": "display_data"
    }
   ],
   "source": [
    "def direct_edges(dataset: np.ndarray, graph: nx.Graph) -> nx.DiGraph:\n",
    "\n",
    "\n"
   ],
   "metadata": {
    "collapsed": false,
    "pycharm": {
     "name": "#%%\n"
    }
   }
  },
  {
   "cell_type": "code",
   "execution_count": null,
   "outputs": [],
   "source": [
    "graph = nx.from_numpy_matrix(pc1(datasets[1]))\n",
    "\n",
    "directed_graph = add_v_structures(datasets[i], graph)\n",
    "directed_graph = orient_meek2(datasets[i], orientmeek1(datasets[i], directed_graph)"
   ],
   "metadata": {
    "collapsed": false,
    "pycharm": {
     "name": "#%%\n"
    }
   }
  },
  {
   "cell_type": "code",
   "execution_count": 91,
   "outputs": [
    {
     "data": {
      "text/plain": "[[set(), set(), set(), set(), set()],\n [set(), set(), set(), set(), set()],\n [set(), set(), set(), set(), set()],\n [set(), set(), set(), set(), set()],\n [set(), set(), set(), set(), set()]]"
     },
     "execution_count": 91,
     "metadata": {},
     "output_type": "execute_result"
    }
   ],
   "source": [],
   "metadata": {
    "collapsed": false,
    "pycharm": {
     "name": "#%%\n"
    }
   }
  }
 ],
 "metadata": {
  "kernelspec": {
   "display_name": "Python 3",
   "language": "python",
   "name": "python3"
  },
  "language_info": {
   "codemirror_mode": {
    "name": "ipython",
    "version": 2
   },
   "file_extension": ".py",
   "mimetype": "text/x-python",
   "name": "python",
   "nbconvert_exporter": "python",
   "pygments_lexer": "ipython2",
   "version": "2.7.6"
  }
 },
 "nbformat": 4,
 "nbformat_minor": 0
}