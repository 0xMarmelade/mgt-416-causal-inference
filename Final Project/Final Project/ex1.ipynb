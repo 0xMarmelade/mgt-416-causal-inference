{
 "cells": [
  {
   "cell_type": "code",
   "execution_count": 22,
   "metadata": {
    "collapsed": true
   },
   "outputs": [],
   "source": [
    "import scipy.io\n",
    "import pandas as pd\n",
    "import numpy as np\n",
    "import itertools\n",
    "from ci_test import ci_test\n",
    "import pickle\n",
    "import cdt\n",
    "import networkx as nx\n",
    "import matplotlib.pyplot as plt"
   ]
  },
  {
   "cell_type": "code",
   "execution_count": 274,
   "outputs": [],
   "source": [
    "datasets = []\n",
    "\n",
    "for dataset_i in range(1,5):\n",
    "    d_mat = scipy.io.loadmat(f\"D{dataset_i}.mat\")\n",
    "    datasets.append(np.array(pd.DataFrame(d_mat['D'])))"
   ],
   "metadata": {
    "collapsed": false,
    "pycharm": {
     "name": "#%%\n"
    }
   }
  },
  {
   "cell_type": "markdown",
   "source": [
    "## 1.1 SGS Algorithm"
   ],
   "metadata": {
    "collapsed": false
   }
  },
  {
   "cell_type": "code",
   "execution_count": 276,
   "outputs": [],
   "source": [
    "def sgs(dataset: np.ndarray) -> (np.ndarray, [set]):\n",
    "    n_columns = dataset.shape[1]\n",
    "    all_nodes = range(n_columns)\n",
    "\n",
    "    adjacency_matrix =  np.zeros((n_columns, n_columns))\n",
    "\n",
    "    # Initialize a list of sets to keep for the edge orientation phase\n",
    "    #Z_set = np.full((n_columns, n_columns), set())\n",
    "    Z_set = [[set() for i in range(n_columns)] for j in range(n_columns)]\n",
    "\n",
    "    for node_i in all_nodes:\n",
    "        nodes = list(all_nodes)\n",
    "        nodes.remove(node_i)\n",
    "        # Pick a different 2nd variable\n",
    "        for node_j in nodes:\n",
    "            possible_controls = list(all_nodes).copy()\n",
    "            possible_controls.remove(node_i)\n",
    "            possible_controls.remove(node_j)\n",
    "            for n_controls in range(len(possible_controls)):\n",
    "                condition_set = list(itertools.combinations(possible_controls, n_controls))\n",
    "\n",
    "                conditionnal_indep_does_not_hold = True\n",
    "                for condition in condition_set:\n",
    "                    if ci_test(dataset, node_i, node_j, condition):\n",
    "                        conditionnal_indep_does_not_hold = False\n",
    "                        break\n",
    "                if conditionnal_indep_does_not_hold:\n",
    "                    adjacency_matrix[node_i][node_j] = adjacency_matrix[node_j][node_i] = 1\n",
    "                    Z_set[node_i][node_j] |= set(condition_set)\n",
    "                    Z_set[node_i][node_j] |= set(condition_set)\n",
    "\n",
    "    return adjacency_matrix, Z_set"
   ],
   "metadata": {
    "collapsed": false,
    "pycharm": {
     "name": "#%%\n"
    }
   }
  },
  {
   "cell_type": "markdown",
   "source": [
    "## 1.1 PC Algorithm"
   ],
   "metadata": {
    "collapsed": false
   }
  },
  {
   "cell_type": "code",
   "execution_count": 295,
   "outputs": [],
   "source": [
    "def pc1(dataset: np.ndarray) -> (np.ndarray, [set]):\n",
    "    n_columns = dataset.shape[1]\n",
    "    all_nodes = range(n_columns)\n",
    "\n",
    "    # Initialize a fully connected adjency matrix (no self connection since its a DAG)\n",
    "    adjacency_matrix = np.ones((n_columns, n_columns)) - np.identity(n_columns)\n",
    "\n",
    "    Z_set = [[set() for i in range(n_columns)] for j in range(n_columns)]\n",
    "    # Pick the 1st variable\n",
    "    for node_i in all_nodes:\n",
    "        nodes = list(all_nodes)\n",
    "        nodes.remove(node_i)\n",
    "        # Pick a different 2nd variable\n",
    "        for node_j in nodes:\n",
    "            # Pick a condition set\n",
    "            for n_controls in all_nodes:\n",
    "                possible_controls = list(all_nodes)\n",
    "                possible_controls.remove(node_i)\n",
    "                possible_controls.remove(node_j)\n",
    "\n",
    "\n",
    "                for condition_set in list(itertools.combinations(possible_controls, n_controls)):\n",
    "                    if ci_test(dataset, node_i, node_j, condition_set):\n",
    "                        adjacency_matrix[node_i][node_j] =  adjacency_matrix[node_j][node_i] = 0\n",
    "\n",
    "                        Z_set[node_i][node_j] |= set(condition_set)\n",
    "                        Z_set[node_j][node_i] |= set(condition_set)\n",
    "\n",
    "    return adjacency_matrix, Z_set"
   ],
   "metadata": {
    "collapsed": false,
    "pycharm": {
     "name": "#%%\n"
    }
   }
  },
  {
   "cell_type": "markdown",
   "source": [
    "1.2 Modified PC algorithm"
   ],
   "metadata": {
    "collapsed": false
   }
  },
  {
   "cell_type": "code",
   "execution_count": 290,
   "outputs": [],
   "source": [
    "def pc2(dataset: np.ndarray) -> (np.ndarray, [set]):\n",
    "    n_columns = dataset.shape[1]\n",
    "    all_nodes = range(n_columns)\n",
    "\n",
    "    adjacency_matrix =  np.zeros((n_columns, n_columns))\n",
    "    Z_set = [[set() for i in range(n_columns)] for j in range(n_columns)]\n",
    "\n",
    "    for node_i in all_nodes:\n",
    "        nodes = list(all_nodes)\n",
    "        nodes.remove(node_i)\n",
    "        # Pick a different 2nd variable\n",
    "        for node_j in nodes:\n",
    "            # Pick a condition set\n",
    "            for n_controls in all_nodes:\n",
    "                possible_controls = list(all_nodes)\n",
    "                possible_controls.remove(node_i)\n",
    "                possible_controls.remove(node_j)\n",
    "\n",
    "                if ci_test(dataset, node_i, node_j, possible_controls):\n",
    "                    adjacency_matrix[node_i][node_j] = adjacency_matrix[node_j][node_i] = 1\n",
    "\n",
    "                for condition in itertools.combinations(possible_controls, n_controls):\n",
    "                    if ci_test(dataset, node_i, node_j, condition):\n",
    "                        adjacency_matrix[node_i][node_j] = 0\n",
    "\n",
    "                        Z_set[node_i][node_j] |= set(condition)\n",
    "                        Z_set[node_j][node_i] |= set(condition)\n",
    "\n",
    "\n",
    "    return adjacency_matrix, Z_set\n"
   ],
   "metadata": {
    "collapsed": false,
    "pycharm": {
     "name": "#%%\n"
    }
   }
  },
  {
   "cell_type": "markdown",
   "source": [
    "## 2 Orienting the edges\n",
    "### 2.1 Starting with V-structures"
   ],
   "metadata": {
    "collapsed": false
   }
  },
  {
   "cell_type": "code",
   "execution_count": 215,
   "outputs": [],
   "source": [
    "def add_v_structures(graph: nx.Graph, Z_set: [set]) -> nx.DiGraph:\n",
    "    directed_graph = nx.DiGraph(graph)\n",
    "    nodes = graph.nodes\n",
    "\n",
    "    for node_pair in itertools.combinations(nodes, 2):\n",
    "        i = node_pair[0]\n",
    "        j = node_pair[1]\n",
    "\n",
    "        i_child = set(directed_graph.successors(i))\n",
    "        if j in i_child:\n",
    "            continue\n",
    "        j_child = set(directed_graph.successors(j))\n",
    "        if i in j_child:\n",
    "            continue\n",
    "        if Z_set[i][j] is None: # is none\n",
    "            continue\n",
    "\n",
    "        common_children = i_child & j_child\n",
    "        for child in common_children:\n",
    "            if child not in Z_set[i][j]:\n",
    "                if directed_graph.has_edge(child, i):\n",
    "                    directed_graph.remove_edge(child, i)\n",
    "                if directed_graph.has_edge(child, j):\n",
    "                    directed_graph.remove_edge(child, j)\n",
    "\n",
    "    return directed_graph"
   ],
   "metadata": {
    "collapsed": false,
    "pycharm": {
     "name": "#%%\n"
    }
   }
  },
  {
   "cell_type": "markdown",
   "source": [
    "## 2.2 Adding the two meek rules"
   ],
   "metadata": {
    "collapsed": false
   }
  },
  {
   "cell_type": "code",
   "execution_count": 218,
   "outputs": [],
   "source": [
    "def add_meek_rules(directed_graph: nx.DiGraph) -> nx.DiGraph:\n",
    "    for node_pair in itertools.combinations(directed_graph, 2):\n",
    "        node_i, node_j = node_pair\n",
    "\n",
    "        # meek 1\n",
    "        if directed_graph.has_edge(node_i, node_j) & directed_graph.has_edge(node_j, node_i):\n",
    "            to_remove = set()\n",
    "            for parent in directed_graph.predecessors(node_i):\n",
    "                if directed_graph.has_edge(node_i, parent) or (directed_graph.has_edge(parent, node_j) or directed_graph.has_edge(node_j, parent)):\n",
    "                    continue\n",
    "                else:\n",
    "                   to_remove.add((node_j,node_i))\n",
    "\n",
    "            for pair in to_remove:\n",
    "                directed_graph.remove_edge(*pair)\n",
    "\n",
    "\n",
    "        # meek 2\n",
    "        if directed_graph.has_edge(node_i, node_j) & directed_graph.has_edge(node_j, node_i):\n",
    "            for child in directed_graph.successors(node_i):\n",
    "                if (not directed_graph.has_edge(child, node_i)) and directed_graph.has_edge(child, node_j):\n",
    "                    directed_graph.remove_edge(node_j, node_i)\n",
    "\n",
    "    return  directed_graph"
   ],
   "metadata": {
    "collapsed": false,
    "pycharm": {
     "name": "#%%\n"
    }
   }
  },
  {
   "cell_type": "code",
   "execution_count": 301,
   "outputs": [
    {
     "data": {
      "text/plain": "<Figure size 432x288 with 1 Axes>",
      "image/png": "[encoded data removed]"
     },
     "metadata": {},
     "output_type": "display_data"
    }
   ],
   "source": [
    "adjacency_mat, condition_set = pc2(datasets[0])\n",
    "graph = nx.from_numpy_matrix(adjacency_mat)\n",
    "\n",
    "directed_graph = add_v_structures(graph, condition_set)\n",
    "directed_graph = add_meek_rules(directed_graph)\n",
    "\n",
    "\n",
    "nx.draw_networkx(directed_graph, with_labels=True)"
   ],
   "metadata": {
    "collapsed": false,
    "pycharm": {
     "name": "#%%\n"
    }
   }
  }
 ],
 "metadata": {
  "kernelspec": {
   "display_name": "Python 3",
   "language": "python",
   "name": "python3"
  },
  "language_info": {
   "codemirror_mode": {
    "name": "ipython",
    "version": 2
   },
   "file_extension": ".py",
   "mimetype": "text/x-python",
   "name": "python",
   "nbconvert_exporter": "python",
   "pygments_lexer": "ipython2",
   "version": "2.7.6"
  }
 },
 "nbformat": 4,
 "nbformat_minor": 0
}